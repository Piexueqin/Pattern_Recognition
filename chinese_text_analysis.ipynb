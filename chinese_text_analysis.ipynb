{
 "cells": [
  {
   "cell_type": "code",
   "execution_count": 2,
   "metadata": {},
   "outputs": [],
   "source": [
    "import jieba.analyse as analyse\n",
    "import pandas as pd"
   ]
  },
  {
   "cell_type": "code",
   "execution_count": 12,
   "metadata": {},
   "outputs": [
    {
     "name": "stdout",
     "output_type": "stream",
     "text": [
      "用户\t\t:0.044511\n",
      "2016\t\t:0.034519\n",
      "互联网\t\t:0.030153\n",
      "手机\t\t:0.027988\n",
      "平台\t\t:0.027647\n",
      "人工智能\t\t:0.024303\n",
      "百度\t\t:0.023508\n",
      "2017\t\t:0.023356\n",
      "智能\t\t:0.022988\n",
      "技术\t\t:0.022828\n",
      "数据\t\t:0.022272\n",
      "360\t\t:0.021645\n",
      "服务\t\t:0.021600\n",
      "直播\t\t:0.018028\n",
      "产品\t\t:0.017988\n",
      "企业\t\t:0.017612\n",
      "安全\t\t:0.017045\n",
      "视频\t\t:0.016530\n",
      "移动\t\t:0.016049\n",
      "应用\t\t:0.014895\n",
      "网络\t\t:0.014733\n",
      "行业\t\t:0.014645\n",
      "游戏\t\t:0.014530\n",
      "机器人\t\t:0.014202\n",
      "电商\t\t:0.014142\n",
      "内容\t\t:0.014068\n",
      "中国\t\t:0.013872\n",
      "领域\t\t:0.013867\n",
      "通过\t\t:0.013543\n",
      "发展\t\t:0.013175\n"
     ]
    }
   ],
   "source": [
    "df = pd.read_csv(\"./data/technology_news.csv\", encoding='utf-8')\n",
    "df = df.dropna()\n",
    "lines=df.content.values.tolist()\n",
    "content = \"\".join(lines)\n",
    "tags=analyse.extract_tags(content, topK=30, withWeight=True, allowPOS=())\n",
    "for tag in tags:\n",
    "    print(\"%s\\t\\t:%f\"%(tag[0],tag[1]))"
   ]
  },
  {
   "cell_type": "code",
   "execution_count": 4,
   "metadata": {},
   "outputs": [
    {
     "name": "stdout",
     "output_type": "stream",
     "text": [
      "航母  训练  海军  中国  官兵  部队  编队  作战  10  任务  美国  导弹  能力  20  2016  军事  无人机  装备  进行  记者  我们  军队  安全  保障  12  战略  军人  日本  南海  战机\n"
     ]
    }
   ],
   "source": [
    "df = pd.read_csv(\"./data/military_news.csv\", encoding='utf-8')\n",
    "df = df.dropna()\n",
    "lines=df.content.values.tolist()\n",
    "content = \"\".join(lines)\n",
    "print(\"  \".join(analyse.extract_tags(content, topK=30, withWeight=False, allowPOS=())))"
   ]
  },
  {
   "cell_type": "code",
   "execution_count": 5,
   "metadata": {},
   "outputs": [
    {
     "name": "stdout",
     "output_type": "stream",
     "text": [
      "中国  海军  训练  美国  部队  进行  官兵  航母  作战  任务  能力  军事  发展  工作  国家  问题  建设  导弹  编队  记者\n",
      "---------------------我是分割线----------------\n",
      "中国  海军  美国  部队  官兵  航母  军事  国家  任务  能力  导弹  技术  问题  日本  军队  编队  装备  系统  记者  战略\n"
     ]
    }
   ],
   "source": [
    "df = pd.read_csv(\"./data/military_news.csv\", encoding='utf-8')\n",
    "df = df.dropna()\n",
    "lines=df.content.values.tolist()\n",
    "content = \"\".join(lines)\n",
    "\n",
    "print( \"  \".join(analyse.textrank(content, topK=20, withWeight=False, allowPOS=('ns', 'n', 'vn', 'v'))))\n",
    "print( \"---------------------我是分割线----------------\")\n",
    "print( \"  \".join(analyse.textrank(content, topK=20, withWeight=False, allowPOS=('ns', 'n'))))"
   ]
  },
  {
   "cell_type": "code",
   "execution_count": 6,
   "metadata": {},
   "outputs": [],
   "source": [
    "from gensim import corpora, models, similarities\n",
    "import gensim"
   ]
  },
  {
   "cell_type": "code",
   "execution_count": 8,
   "metadata": {},
   "outputs": [],
   "source": [
    "stopwords=pd.read_csv(\"./data/stopwords.txt\",index_col=False,quoting=3,sep=\"\\t\",names=['stopword'], encoding='utf-8')\n",
    "stopwords=stopwords['stopword'].values"
   ]
  },
  {
   "cell_type": "code",
   "execution_count": 9,
   "metadata": {},
   "outputs": [],
   "source": [
    "import jieba\n",
    "import pandas as pd\n",
    "df = pd.read_csv(\"./data/technology_news.csv\", encoding='utf-8')\n",
    "df = df.dropna()\n",
    "lines=df.content.values.tolist()\n",
    "\n",
    "sentences=[]\n",
    "for line in lines:\n",
    "    try:\n",
    "        segs=jieba.lcut(line)\n",
    "        segs = list(filter(lambda x:len(x)>1, segs))\n",
    "        segs = list(filter(lambda x:x not in stopwords, segs))\n",
    "        sentences.append(segs)\n",
    "    except Exception:\n",
    "        print(line)\n",
    "        continue"
   ]
  },
  {
   "cell_type": "code",
   "execution_count": 10,
   "metadata": {},
   "outputs": [
    {
     "name": "stdout",
     "output_type": "stream",
     "text": [
      "本次\n",
      "商汤\n",
      "带来\n",
      "黄仁勋\n",
      "展示\n",
      "遥相呼应\n",
      "SenseFace\n",
      "人脸\n",
      "布控\n",
      "系统\n",
      "千万级\n",
      "人员\n",
      "库中\n",
      "300ms\n",
      "识别\n",
      "瞬间\n",
      "锁定目标\n",
      "功耗\n",
      "十几\n",
      "当属\n",
      "人脸\n",
      "布控\n",
      "一大\n",
      "科技\n"
     ]
    }
   ],
   "source": [
    "for word in sentences[5]:\n",
    "    print(word)"
   ]
  },
  {
   "cell_type": "code",
   "execution_count": 11,
   "metadata": {},
   "outputs": [],
   "source": [
    "dictionary = corpora.Dictionary(sentences)\n",
    "corpus = [dictionary.doc2bow(sentence) for sentence in sentences]"
   ]
  },
  {
   "cell_type": "code",
   "execution_count": 12,
   "metadata": {},
   "outputs": [
    {
     "data": {
      "text/plain": [
       "[(21, 1),\n",
       " (39, 1),\n",
       " (61, 1),\n",
       " (68, 1),\n",
       " (78, 1),\n",
       " (82, 1),\n",
       " (91, 1),\n",
       " (92, 1),\n",
       " (103, 1),\n",
       " (104, 2),\n",
       " (105, 2),\n",
       " (124, 1),\n",
       " (129, 1),\n",
       " (130, 1),\n",
       " (131, 1),\n",
       " (132, 1),\n",
       " (133, 1),\n",
       " (134, 1),\n",
       " (135, 1),\n",
       " (136, 1),\n",
       " (137, 1),\n",
       " (138, 1)]"
      ]
     },
     "execution_count": 12,
     "metadata": {},
     "output_type": "execute_result"
    }
   ],
   "source": [
    "corpus[5]"
   ]
  },
  {
   "cell_type": "code",
   "execution_count": 13,
   "metadata": {},
   "outputs": [],
   "source": [
    "lda = gensim.models.ldamodel.LdaModel(corpus=corpus, id2word=dictionary, num_topics=20)"
   ]
  },
  {
   "cell_type": "code",
   "execution_count": 14,
   "metadata": {},
   "outputs": [
    {
     "name": "stdout",
     "output_type": "stream",
     "text": [
      "0.019*\"网络安全\" + 0.018*\"360\" + 0.015*\"攻击\" + 0.014*\"公司\" + 0.014*\"产品\"\n"
     ]
    }
   ],
   "source": [
    "print(lda.print_topic(3, topn=5))"
   ]
  },
  {
   "cell_type": "code",
   "execution_count": 16,
   "metadata": {},
   "outputs": [
    {
     "name": "stdout",
     "output_type": "stream",
     "text": [
      "0.024*\"宽带\" + 0.014*\"网秦\" + 0.012*\"效果\" + 0.011*\"指纹\" + 0.009*\"陌陌\" + 0.009*\"速率\" + 0.008*\"业务\" + 0.008*\"运营商\"\n",
      "0.058*\"游戏\" + 0.015*\"项目\" + 0.015*\"梦想\" + 0.013*\"日电\" + 0.013*\"玩家\" + 0.013*\"中新网\" + 0.012*\"电竞\" + 0.012*\"2017\"\n",
      "0.040*\"中国\" + 0.038*\"发展\" + 0.028*\"创新\" + 0.027*\"技术\" + 0.026*\"产业\" + 0.023*\"科技\" + 0.016*\"未来\" + 0.014*\"VR\"\n",
      "0.019*\"网络安全\" + 0.018*\"360\" + 0.015*\"攻击\" + 0.014*\"公司\" + 0.014*\"产品\" + 0.014*\"企业\" + 0.013*\"漏洞\" + 0.013*\"手机\"\n",
      "0.096*\"百度\" + 0.020*\"用户\" + 0.016*\"感染\" + 0.012*\"社交\" + 0.012*\"糯米\" + 0.008*\"高级\" + 0.008*\"QQ\" + 0.008*\"新闻\"\n",
      "0.036*\"机器人\" + 0.033*\"服务\" + 0.020*\"医疗\" + 0.017*\"办公\" + 0.013*\"数据安全\" + 0.011*\"医生\" + 0.010*\"成本\" + 0.010*\"政务\"\n",
      "0.014*\"腾讯\" + 0.013*\"委员会\" + 0.010*\"绿色\" + 0.009*\"活动\" + 0.008*\"主席\" + 0.008*\"投诉\" + 0.008*\"用户\" + 0.007*\"中国移动\"\n",
      "0.022*\"用户\" + 0.015*\"市场\" + 0.011*\"网络\" + 0.011*\"报告\" + 0.010*\"增长\" + 0.010*\"经济\" + 0.010*\"共享\" + 0.010*\"亿元\"\n",
      "0.072*\"手机\" + 0.019*\"单车\" + 0.015*\"微信\" + 0.014*\"APP\" + 0.011*\"动漫\" + 0.011*\"安装\" + 0.010*\"二维码\" + 0.009*\"共享\"\n",
      "0.081*\"视频\" + 0.080*\"内容\" + 0.030*\"平台\" + 0.028*\"流量\" + 0.015*\"用户\" + 0.015*\"广告\" + 0.014*\"媒体\" + 0.012*\"监控\"\n",
      "0.016*\"中国\" + 0.016*\"北京\" + 0.015*\"战略\" + 0.015*\"合作\" + 0.014*\"集团\" + 0.014*\"旅游\" + 0.013*\"生态\" + 0.012*\"公司\"\n",
      "0.059*\"用户\" + 0.021*\"手机\" + 0.018*\"信息\" + 0.017*\"支付\" + 0.015*\"功能\" + 0.014*\"系统\" + 0.010*\"地图\" + 0.009*\"360\"\n",
      "0.019*\"京东\" + 0.014*\"生活\" + 0.013*\"消费者\" + 0.010*\"2.0\" + 0.009*\"购买\" + 0.008*\"时间\" + 0.008*\"商品\" + 0.008*\"费用\"\n",
      "0.015*\"设计\" + 0.011*\"英文\" + 0.011*\"音乐\" + 0.010*\"体验\" + 0.010*\"跨界\" + 0.010*\"处置\" + 0.009*\"Plus\" + 0.008*\"内容\"\n",
      "0.033*\"智能\" + 0.033*\"人工智能\" + 0.028*\"技术\" + 0.018*\"数据\" + 0.015*\"互联网\" + 0.013*\"领域\" + 0.011*\"网络\" + 0.010*\"汽车\"\n",
      "0.057*\"病毒\" + 0.024*\"诈骗\" + 0.016*\"事件\" + 0.012*\"网络\" + 0.011*\"电信\" + 0.011*\"数据\" + 0.010*\"信息\" + 0.010*\"IT\"\n",
      "0.031*\"数据\" + 0.016*\"企业\" + 0.016*\"服务\" + 0.015*\"平台\" + 0.012*\"产品\" + 0.012*\"品牌\" + 0.011*\"用户\" + 0.010*\"提供\"\n",
      "0.038*\"直播\" + 0.014*\"电视\" + 0.012*\"乐视\" + 0.012*\"显示\" + 0.011*\"超过\" + 0.011*\"增长\" + 0.009*\"市场\" + 0.008*\"2017\"\n",
      "0.057*\"勒索\" + 0.042*\"手机\" + 0.028*\"孩子\" + 0.025*\"家长\" + 0.013*\"文件\" + 0.012*\"儿童\" + 0.012*\"电脑\" + 0.012*\"苹果\"\n",
      "0.020*\"游戏\" + 0.018*\"公司\" + 0.015*\"永恒\" + 0.013*\"业务\" + 0.012*\"增长\" + 0.009*\"市场\" + 0.009*\"棋牌\" + 0.008*\"数字\"\n"
     ]
    }
   ],
   "source": [
    "for topic in lda.print_topics(num_topics=20, num_words=8):\n",
    "    print(topic[1])"
   ]
  },
  {
   "cell_type": "markdown",
   "metadata": {},
   "source": [
    "## 对新文本进行分类"
   ]
  },
  {
   "cell_type": "code",
   "execution_count": null,
   "metadata": {},
   "outputs": [],
   "source": []
  }
 ],
 "metadata": {
  "kernelspec": {
   "display_name": "Python 3",
   "language": "python",
   "name": "python3"
  },
  "language_info": {
   "codemirror_mode": {
    "name": "ipython",
    "version": 3
   },
   "file_extension": ".py",
   "mimetype": "text/x-python",
   "name": "python",
   "nbconvert_exporter": "python",
   "pygments_lexer": "ipython3",
   "version": "3.7.9"
  }
 },
 "nbformat": 4,
 "nbformat_minor": 4
}
